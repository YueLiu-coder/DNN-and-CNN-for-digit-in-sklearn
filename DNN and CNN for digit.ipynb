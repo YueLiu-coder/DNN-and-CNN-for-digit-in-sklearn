{
 "cells": [
  {
   "cell_type": "markdown",
   "metadata": {},
   "source": [
    "# 导入所需要的包"
   ]
  },
  {
   "cell_type": "code",
   "execution_count": 338,
   "metadata": {},
   "outputs": [],
   "source": [
    "from sklearn import datasets\n",
    "from sklearn.model_selection import train_test_split\n",
    "import tensorflow as tf\n",
    "import warnings\n",
    "from keras.models import  Sequential\n",
    "from keras.layers.core import  Lambda , Dense, Flatten, Dropout\n",
    "from keras.callbacks import EarlyStopping\n",
    "from keras.layers import BatchNormalization, Convolution2D , MaxPooling2D\n",
    "from keras.utils import to_categorical\n",
    "import numpy as np\n",
    "from keras.optimizers import RMSprop\n",
    "warnings.simplefilter('ignore')"
   ]
  },
  {
   "cell_type": "markdown",
   "metadata": {},
   "source": [
    "# 处理数据"
   ]
  },
  {
   "cell_type": "markdown",
   "metadata": {},
   "source": [
    "digits"
   ]
  },
  {
   "cell_type": "code",
   "execution_count": 339,
   "metadata": {},
   "outputs": [],
   "source": [
    "digits = datasets.load_digits()"
   ]
  },
  {
   "cell_type": "code",
   "execution_count": 340,
   "metadata": {},
   "outputs": [
    {
     "name": "stdout",
     "output_type": "stream",
     "text": [
      "dict_keys(['images', 'target', 'target_names', 'data', 'DESCR'])\n"
     ]
    }
   ],
   "source": [
    "print(digits.keys())"
   ]
  },
  {
   "cell_type": "code",
   "execution_count": 341,
   "metadata": {},
   "outputs": [],
   "source": [
    "X = digits.data\n",
    "#标记\n",
    "Y = digits.target\n",
    " \n",
    "#数据与处理，让特征值都处在0-1之间\n",
    "X -= X.min()\n",
    "X /= X.max()"
   ]
  },
  {
   "cell_type": "code",
   "execution_count": 342,
   "metadata": {},
   "outputs": [],
   "source": [
    "Y = np.array(Y)\n",
    "Y_ = to_categorical(Y)"
   ]
  },
  {
   "cell_type": "code",
   "execution_count": 343,
   "metadata": {},
   "outputs": [],
   "source": [
    "# 划分数据集\n",
    "X_train, X_test, y_train, y_test = train_test_split(X, Y_, test_size=0.2, random_state=1)"
   ]
  },
  {
   "cell_type": "code",
   "execution_count": 344,
   "metadata": {},
   "outputs": [
    {
     "data": {
      "text/plain": [
       "array([[0., 0., 0., ..., 0., 0., 0.],\n",
       "       [0., 0., 0., ..., 0., 0., 1.],\n",
       "       [0., 0., 0., ..., 0., 0., 0.],\n",
       "       ...,\n",
       "       [0., 0., 0., ..., 0., 0., 1.],\n",
       "       [0., 1., 0., ..., 0., 0., 0.],\n",
       "       [0., 0., 0., ..., 0., 0., 0.]], dtype=float32)"
      ]
     },
     "execution_count": 344,
     "metadata": {},
     "output_type": "execute_result"
    }
   ],
   "source": [
    "y_train"
   ]
  },
  {
   "cell_type": "code",
   "execution_count": 345,
   "metadata": {},
   "outputs": [
    {
     "data": {
      "text/plain": [
       "(1437, 64)"
      ]
     },
     "execution_count": 345,
     "metadata": {},
     "output_type": "execute_result"
    }
   ],
   "source": [
    "X_train.shape"
   ]
  },
  {
   "cell_type": "markdown",
   "metadata": {},
   "source": [
    "# model"
   ]
  },
  {
   "cell_type": "code",
   "execution_count": 346,
   "metadata": {},
   "outputs": [],
   "source": [
    "from keras.models import Sequential\n",
    "from keras.layers import Dense, Dropout,Conv2D\n",
    "from keras.optimizers import RMSprop"
   ]
  },
  {
   "cell_type": "markdown",
   "metadata": {},
   "source": [
    "DNN"
   ]
  },
  {
   "cell_type": "code",
   "execution_count": 347,
   "metadata": {},
   "outputs": [
    {
     "name": "stdout",
     "output_type": "stream",
     "text": [
      "_________________________________________________________________\n",
      "Layer (type)                 Output Shape              Param #   \n",
      "=================================================================\n",
      "dense_80 (Dense)             (None, 512)               33280     \n",
      "_________________________________________________________________\n",
      "dropout_48 (Dropout)         (None, 512)               0         \n",
      "_________________________________________________________________\n",
      "dense_81 (Dense)             (None, 10)                5130      \n",
      "=================================================================\n",
      "Total params: 38,410\n",
      "Trainable params: 38,410\n",
      "Non-trainable params: 0\n",
      "_________________________________________________________________\n"
     ]
    }
   ],
   "source": [
    "DNN = Sequential()\n",
    "DNN.add(Dense(512, activation='relu', input_shape=(64,)))\n",
    "DNN.add(Dropout(0.2))\n",
    "DNN.add(Dense(10, activation='softmax'))\n",
    "DNN.summary()"
   ]
  },
  {
   "cell_type": "code",
   "execution_count": 348,
   "metadata": {},
   "outputs": [],
   "source": [
    "DNN.compile(loss='categorical_crossentropy',optimizer=RMSprop(),metrics=['accuracy'])"
   ]
  },
  {
   "cell_type": "code",
   "execution_count": 349,
   "metadata": {
    "scrolled": true
   },
   "outputs": [
    {
     "name": "stdout",
     "output_type": "stream",
     "text": [
      "Epoch 1/20\n",
      "1437/1437 [==============================] - 1s 885us/step - loss: 1.7646 - acc: 0.6298\n",
      "Epoch 2/20\n",
      "1437/1437 [==============================] - 0s 93us/step - loss: 1.0501 - acc: 0.8650\n",
      "Epoch 3/20\n",
      "1437/1437 [==============================] - 0s 82us/step - loss: 0.6827 - acc: 0.9095\n",
      "Epoch 4/20\n",
      "1437/1437 [==============================] - 0s 77us/step - loss: 0.4900 - acc: 0.9262\n",
      "Epoch 5/20\n",
      "1437/1437 [==============================] - 0s 68us/step - loss: 0.3765 - acc: 0.9353\n",
      "Epoch 6/20\n",
      "1437/1437 [==============================] - 0s 68us/step - loss: 0.3019 - acc: 0.9471\n",
      "Epoch 7/20\n",
      "1437/1437 [==============================] - 0s 97us/step - loss: 0.2552 - acc: 0.9492\n",
      "Epoch 8/20\n",
      "1437/1437 [==============================] - 0s 82us/step - loss: 0.2216 - acc: 0.9534\n",
      "Epoch 9/20\n",
      "1437/1437 [==============================] - 0s 144us/step - loss: 0.1897 - acc: 0.9624\n",
      "Epoch 10/20\n",
      "1437/1437 [==============================] - 0s 71us/step - loss: 0.1715 - acc: 0.9645\n",
      "Epoch 11/20\n",
      "1437/1437 [==============================] - 0s 92us/step - loss: 0.1594 - acc: 0.9645\n",
      "Epoch 12/20\n",
      "1437/1437 [==============================] - 0s 70us/step - loss: 0.1439 - acc: 0.9715\n",
      "Epoch 13/20\n",
      "1437/1437 [==============================] - 0s 95us/step - loss: 0.1331 - acc: 0.9743\n",
      "Epoch 14/20\n",
      "1437/1437 [==============================] - 0s 94us/step - loss: 0.1218 - acc: 0.9694\n",
      "Epoch 15/20\n",
      "1437/1437 [==============================] - 0s 103us/step - loss: 0.1120 - acc: 0.9756\n",
      "Epoch 16/20\n",
      "1437/1437 [==============================] - 0s 80us/step - loss: 0.1019 - acc: 0.9770\n",
      "Epoch 17/20\n",
      "1437/1437 [==============================] - 0s 74us/step - loss: 0.0967 - acc: 0.9791\n",
      "Epoch 18/20\n",
      "1437/1437 [==============================] - 0s 77us/step - loss: 0.0946 - acc: 0.9784\n",
      "Epoch 19/20\n",
      "1437/1437 [==============================] - 0s 75us/step - loss: 0.0896 - acc: 0.9833\n",
      "Epoch 20/20\n",
      "1437/1437 [==============================] - 0s 91us/step - loss: 0.0815 - acc: 0.9833\n"
     ]
    }
   ],
   "source": [
    "history = DNN.fit(X_train,y_train,batch_size=100,epochs=20)"
   ]
  },
  {
   "cell_type": "code",
   "execution_count": 350,
   "metadata": {},
   "outputs": [],
   "source": [
    "y_pred_dnn = DNN.predict_classes(X_test)"
   ]
  },
  {
   "cell_type": "code",
   "execution_count": 351,
   "metadata": {},
   "outputs": [],
   "source": [
    "y_true = []\n",
    "for i in y_test:\n",
    "    y_true.append(i.argmax())"
   ]
  },
  {
   "cell_type": "markdown",
   "metadata": {},
   "source": [
    "CNN"
   ]
  },
  {
   "cell_type": "code",
   "execution_count": 352,
   "metadata": {
    "collapsed": true
   },
   "outputs": [],
   "source": [
    "X = digits.data\n",
    "#标记\n",
    "Y = digits.target\n",
    " \n",
    "#数据与处理，让特征值都处在0-1之间\n",
    "X -= X.min()\n",
    "X /= X.max()"
   ]
  },
  {
   "cell_type": "code",
   "execution_count": 353,
   "metadata": {},
   "outputs": [],
   "source": [
    "X = X.reshape(X.shape[0],8,8,1)\n",
    "Y = np.array(Y)\n",
    "Y_ = to_categorical(Y)\n",
    "# 划分数据集\n",
    "X_train, X_test, y_train, y_test = train_test_split(X, Y_, test_size=0.2, random_state=1)"
   ]
  },
  {
   "cell_type": "code",
   "execution_count": 354,
   "metadata": {},
   "outputs": [
    {
     "name": "stdout",
     "output_type": "stream",
     "text": [
      "_________________________________________________________________\n",
      "Layer (type)                 Output Shape              Param #   \n",
      "=================================================================\n",
      "conv2d_25 (Conv2D)           (None, 6, 6, 32)          320       \n",
      "_________________________________________________________________\n",
      "conv2d_26 (Conv2D)           (None, 4, 4, 64)          18496     \n",
      "_________________________________________________________________\n",
      "max_pooling2d_10 (MaxPooling (None, 2, 2, 64)          0         \n",
      "_________________________________________________________________\n",
      "dropout_49 (Dropout)         (None, 2, 2, 64)          0         \n",
      "_________________________________________________________________\n",
      "flatten_14 (Flatten)         (None, 256)               0         \n",
      "_________________________________________________________________\n",
      "dense_82 (Dense)             (None, 128)               32896     \n",
      "_________________________________________________________________\n",
      "dropout_50 (Dropout)         (None, 128)               0         \n",
      "_________________________________________________________________\n",
      "dense_83 (Dense)             (None, 10)                1290      \n",
      "=================================================================\n",
      "Total params: 53,002\n",
      "Trainable params: 53,002\n",
      "Non-trainable params: 0\n",
      "_________________________________________________________________\n"
     ]
    }
   ],
   "source": [
    "CNN = Sequential()\n",
    "CNN.add(Conv2D(32, kernel_size=(3, 3),\n",
    "                 activation='relu',\n",
    "                 input_shape=(8,8,1))) # 32个过滤器，过滤器大小是3×3，32×26×26\n",
    "CNN.add(Conv2D(64, (3, 3), activation='relu')) #64×24×24\n",
    "CNN.add(MaxPooling2D(pool_size=(2, 2)))# 向下取样\n",
    "CNN.add(Dropout(0.25))\n",
    "CNN.add(Flatten()) #降维：将64×12×12降为1维（即把他们相乘起来）\n",
    "CNN.add(Dense(128, activation='relu'))\n",
    "CNN.add(Dropout(0.5))\n",
    "CNN.add(Dense(10, activation='softmax')) #全连接2层\n",
    "CNN.summary()"
   ]
  },
  {
   "cell_type": "code",
   "execution_count": 355,
   "metadata": {
    "collapsed": true
   },
   "outputs": [],
   "source": [
    "CNN.compile(loss='categorical_crossentropy',optimizer=RMSprop(),metrics=['accuracy'])"
   ]
  },
  {
   "cell_type": "code",
   "execution_count": 356,
   "metadata": {},
   "outputs": [
    {
     "name": "stdout",
     "output_type": "stream",
     "text": [
      "Epoch 1/20\n",
      "1437/1437 [==============================] - 2s 1ms/step - loss: 2.0640 - acc: 0.3459\n",
      "Epoch 2/20\n",
      "1437/1437 [==============================] - 0s 207us/step - loss: 1.3588 - acc: 0.6096\n",
      "Epoch 3/20\n",
      "1437/1437 [==============================] - 0s 221us/step - loss: 0.9232 - acc: 0.7286\n",
      "Epoch 4/20\n",
      "1437/1437 [==============================] - 0s 227us/step - loss: 0.7404 - acc: 0.7808\n",
      "Epoch 5/20\n",
      "1437/1437 [==============================] - 0s 195us/step - loss: 0.5759 - acc: 0.8413\n",
      "Epoch 6/20\n",
      "1437/1437 [==============================] - 0s 205us/step - loss: 0.4989 - acc: 0.8573\n",
      "Epoch 7/20\n",
      "1437/1437 [==============================] - 0s 213us/step - loss: 0.4293 - acc: 0.8720\n",
      "Epoch 8/20\n",
      "1437/1437 [==============================] - 0s 261us/step - loss: 0.3512 - acc: 0.8991\n",
      "Epoch 9/20\n",
      "1437/1437 [==============================] - 0s 224us/step - loss: 0.3101 - acc: 0.9026\n",
      "Epoch 10/20\n",
      "1437/1437 [==============================] - 0s 220us/step - loss: 0.2838 - acc: 0.9109\n",
      "Epoch 11/20\n",
      "1437/1437 [==============================] - 0s 200us/step - loss: 0.2551 - acc: 0.9221\n",
      "Epoch 12/20\n",
      "1437/1437 [==============================] - 0s 218us/step - loss: 0.2208 - acc: 0.9283\n",
      "Epoch 13/20\n",
      "1437/1437 [==============================] - 0s 200us/step - loss: 0.2207 - acc: 0.9346\n",
      "Epoch 14/20\n",
      "1437/1437 [==============================] - 0s 234us/step - loss: 0.1938 - acc: 0.9422\n",
      "Epoch 15/20\n",
      "1437/1437 [==============================] - 0s 237us/step - loss: 0.1807 - acc: 0.9395\n",
      "Epoch 16/20\n",
      "1437/1437 [==============================] - 0s 211us/step - loss: 0.1485 - acc: 0.9541\n",
      "Epoch 17/20\n",
      "1437/1437 [==============================] - 0s 236us/step - loss: 0.1368 - acc: 0.9576\n",
      "Epoch 18/20\n",
      "1437/1437 [==============================] - 0s 225us/step - loss: 0.1306 - acc: 0.9645\n",
      "Epoch 19/20\n",
      "1437/1437 [==============================] - 1s 380us/step - loss: 0.1458 - acc: 0.9506\n",
      "Epoch 20/20\n",
      "1437/1437 [==============================] - 0s 267us/step - loss: 0.1118 - acc: 0.9701\n"
     ]
    }
   ],
   "source": [
    "history = CNN.fit(X_train,y_train,batch_size=100,epochs=20)"
   ]
  },
  {
   "cell_type": "code",
   "execution_count": 357,
   "metadata": {},
   "outputs": [
    {
     "data": {
      "text/plain": [
       "array([1, 5, 0, 7, 1, 0, 6, 1, 5, 4, 9, 2, 7, 8, 4, 6, 9, 3, 7, 4, 7, 4,\n",
       "       8, 6, 0, 9, 6, 1, 3, 7, 5, 9, 8, 3, 2, 8, 8, 1, 1, 0, 7, 9, 0, 0,\n",
       "       8, 7, 2, 7, 4, 3, 4, 3, 4, 0, 4, 7, 0, 5, 5, 5, 2, 1, 7, 0, 5, 1,\n",
       "       8, 3, 3, 4, 0, 3, 7, 4, 3, 4, 2, 9, 7, 3, 2, 5, 3, 4, 1, 5, 5, 2,\n",
       "       1, 2, 2, 2, 2, 7, 0, 8, 1, 7, 4, 2, 3, 8, 2, 3, 3, 0, 2, 9, 9, 2,\n",
       "       3, 2, 8, 1, 1, 9, 6, 2, 0, 4, 8, 5, 4, 4, 7, 6, 3, 6, 6, 1, 7, 5,\n",
       "       6, 3, 8, 3, 7, 1, 8, 5, 3, 4, 7, 8, 5, 0, 6, 0, 6, 3, 7, 6, 5, 6,\n",
       "       2, 2, 2, 3, 0, 7, 6, 5, 6, 4, 1, 0, 6, 0, 6, 4, 0, 9, 3, 8, 1, 2,\n",
       "       3, 1, 9, 0, 7, 6, 2, 9, 3, 5, 3, 4, 6, 3, 3, 7, 4, 9, 2, 7, 6, 1,\n",
       "       6, 7, 4, 0, 3, 1, 0, 9, 9, 9, 0, 1, 8, 6, 8, 0, 9, 5, 9, 8, 2, 3,\n",
       "       5, 3, 0, 8, 7, 4, 0, 3, 3, 3, 6, 3, 3, 2, 9, 1, 6, 9, 0, 4, 2, 2,\n",
       "       7, 9, 1, 6, 7, 6, 3, 7, 1, 9, 3, 4, 0, 6, 4, 8, 3, 3, 6, 3, 1, 4,\n",
       "       0, 4, 4, 5, 7, 9, 1, 5, 2, 7, 0, 9, 0, 4, 4, 0, 1, 4, 6, 4, 2, 8,\n",
       "       5, 0, 2, 6, 0, 1, 8, 2, 0, 9, 5, 6, 2, 0, 5, 0, 9, 1, 4, 7, 1, 7,\n",
       "       0, 6, 6, 8, 0, 2, 2, 6, 9, 9, 7, 5, 1, 7, 6, 4, 6, 1, 9, 4, 7, 1,\n",
       "       3, 7, 8, 1, 6, 9, 8, 3, 2, 4, 8, 7, 5, 5, 6, 9, 9, 4, 3, 0, 0, 4,\n",
       "       9, 3, 0, 4, 9, 4, 2, 5], dtype=int64)"
      ]
     },
     "execution_count": 357,
     "metadata": {},
     "output_type": "execute_result"
    }
   ],
   "source": [
    "pred_y_cnn = CNN.predict_classes(X_test)\n",
    "pred_y_cnn"
   ]
  },
  {
   "cell_type": "code",
   "execution_count": null,
   "metadata": {
    "collapsed": true
   },
   "outputs": [],
   "source": []
  },
  {
   "cell_type": "code",
   "execution_count": null,
   "metadata": {
    "collapsed": true
   },
   "outputs": [],
   "source": []
  },
  {
   "cell_type": "code",
   "execution_count": null,
   "metadata": {
    "collapsed": true
   },
   "outputs": [],
   "source": []
  },
  {
   "cell_type": "code",
   "execution_count": null,
   "metadata": {
    "collapsed": true
   },
   "outputs": [],
   "source": []
  },
  {
   "cell_type": "code",
   "execution_count": null,
   "metadata": {
    "collapsed": true
   },
   "outputs": [],
   "source": []
  },
  {
   "cell_type": "code",
   "execution_count": null,
   "metadata": {
    "collapsed": true
   },
   "outputs": [],
   "source": []
  }
 ],
 "metadata": {
  "kernelspec": {
   "display_name": "Python 3",
   "language": "python",
   "name": "python3"
  },
  "language_info": {
   "codemirror_mode": {
    "name": "ipython",
    "version": 3
   },
   "file_extension": ".py",
   "mimetype": "text/x-python",
   "name": "python",
   "nbconvert_exporter": "python",
   "pygments_lexer": "ipython3",
   "version": "3.5.6"
  }
 },
 "nbformat": 4,
 "nbformat_minor": 2
}
